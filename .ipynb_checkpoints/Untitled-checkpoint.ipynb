{
 "cells": [
  {
   "cell_type": "code",
   "execution_count": 1,
   "metadata": {},
   "outputs": [],
   "source": [
    "import matplotlib.pyplot as plt\n",
    "import numpy as np\n",
    "import h5py\n",
    "from matplotlib.figure import Figure\n",
    "import ipywidgets as widgets\n",
    "\n",
    "import extract_data\n",
    "import test_average_data\n",
    "\n",
    "%matplotlib inline"
   ]
  },
  {
   "cell_type": "code",
   "execution_count": 2,
   "metadata": {},
   "outputs": [
    {
     "data": {
      "application/vnd.jupyter.widget-view+json": {
       "model_id": "f4e252b4c850444ebefde82b7fc6d76e",
       "version_major": 2,
       "version_minor": 0
      },
      "text/plain": [
       "HBox(children=(Label(value='Tile Orientation:', layout=Layout(width='10%')), RadioButtons(options=('Left Tile'…"
      ]
     },
     "metadata": {},
     "output_type": "display_data"
    },
    {
     "data": {
      "application/vnd.jupyter.widget-view+json": {
       "model_id": "6f3b1590882c4c54ad9711051471b6f7",
       "version_major": 2,
       "version_minor": 0
      },
      "text/plain": [
       "Button(description='Analyse Data', layout=Layout(width='20%'), style=ButtonStyle())"
      ]
     },
     "metadata": {},
     "output_type": "display_data"
    },
    {
     "name": "stdout",
     "output_type": "stream",
     "text": [
      "[96, 128]\n",
      "[96, 128]\n",
      "[96, 0]\n",
      "[0, 0]\n",
      "[192, 0]\n",
      "[192, 128]\n"
     ]
    }
   ],
   "source": [
    "# TODO - file chooser\n",
    "lpd_file_name = '/data/lpd/matt/' + 'lpdData-04761.hdf5_000001.h5'\n",
    "\n",
    "tile_choice = widgets.RadioButtons(\n",
    "    options = ['Left Tile', 'Right Tile'],\n",
    "    disabled = False\n",
    ")\n",
    "tile_choice_label = widgets.Label(\n",
    "    value = 'Tile Orientation:',\n",
    "    layout = widgets.Layout(width = '10%'),\n",
    ")\n",
    "\n",
    "# Event handling for radio buttons\n",
    "def on_change(change):\n",
    "    # Avoid getting property lock etc.\n",
    "    if change['type'] == 'change' and change['name'] == 'value':\n",
    "        tile_choice.value = change['new']   \n",
    "\n",
    "tile_choice.observe(on_change)\n",
    "\n",
    "# Mini connector slider\n",
    "mini_connector_selector = widgets.IntSlider(\n",
    "    # TODO - Change default value to 1 - currently at 4 based on test data\n",
    "    value = 4,\n",
    "    min = 1,\n",
    "    max = 8,\n",
    "    step = 1,\n",
    "    orientation = 'horizontal'\n",
    ")\n",
    "mini_connector_label = widgets.Label(\n",
    "    value = 'Mini Connector:',\n",
    "    layout = widgets.Layout(width = '10%')\n",
    ")\n",
    "\n",
    "# TODO - Implement analyse_button\n",
    "analyse_button = widgets.Button(\n",
    "    description='Analyse Data',\n",
    "    layout = widgets.Layout(width='20%')\n",
    ")\n",
    "\n",
    "def on_button_clicked(b):\n",
    "    analyse_data()\n",
    "\n",
    "analyse_button.on_click(on_button_clicked)\n",
    "\n",
    "# Display widgets\n",
    "display(widgets.HBox([tile_choice_label, tile_choice, mini_connector_label, mini_connector_selector]))\n",
    "display(analyse_button)\n",
    "\n",
    "def analyse_data():\n",
    "    lpd_data = extract_data.get_lpd_data(lpd_file_name)\n",
    "    tile_position = extract_data.set_tile_position(tile_choice.value, mini_connector_selector.value)\n",
    "    \n",
    "    # Average test\n",
    "    # Display plots of average tile and histogram of average"
   ]
  },
  {
   "cell_type": "code",
   "execution_count": null,
   "metadata": {},
   "outputs": [],
   "source": []
  }
 ],
 "metadata": {
  "kernelspec": {
   "display_name": "Python 3",
   "language": "python",
   "name": "python3"
  },
  "language_info": {
   "codemirror_mode": {
    "name": "ipython",
    "version": 3
   },
   "file_extension": ".py",
   "mimetype": "text/x-python",
   "name": "python",
   "nbconvert_exporter": "python",
   "pygments_lexer": "ipython3",
   "version": "3.6.5"
  }
 },
 "nbformat": 4,
 "nbformat_minor": 2
}
