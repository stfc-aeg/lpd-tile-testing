{
 "cells": [
  {
   "cell_type": "code",
   "execution_count": 2,
   "metadata": {},
   "outputs": [
    {
     "ename": "NameError",
     "evalue": "name 'date' is not defined",
     "output_type": "error",
     "traceback": [
      "\u001b[0;31m---------------------------------------------------------------------------\u001b[0m",
      "\u001b[0;31mNameError\u001b[0m                                 Traceback (most recent call last)",
      "\u001b[0;32m<ipython-input-2-fe6dda7313ea>\u001b[0m in \u001b[0;36m<module>\u001b[0;34m\u001b[0m\n\u001b[1;32m     12\u001b[0m \u001b[0;31m# Get dates of oldest file and current date and convert from unix time when needed\u001b[0m\u001b[0;34m\u001b[0m\u001b[0;34m\u001b[0m\u001b[0m\n\u001b[1;32m     13\u001b[0m \u001b[0munix_min_date\u001b[0m \u001b[0;34m=\u001b[0m \u001b[0mos\u001b[0m\u001b[0;34m.\u001b[0m\u001b[0mpath\u001b[0m\u001b[0;34m.\u001b[0m\u001b[0mgetmtime\u001b[0m\u001b[0;34m(\u001b[0m\u001b[0moldest_file\u001b[0m\u001b[0;34m)\u001b[0m\u001b[0;34m\u001b[0m\u001b[0m\n\u001b[0;32m---> 14\u001b[0;31m \u001b[0mmin_date\u001b[0m \u001b[0;34m=\u001b[0m \u001b[0mdate\u001b[0m\u001b[0;34m.\u001b[0m\u001b[0mfromtimestamp\u001b[0m\u001b[0;34m(\u001b[0m\u001b[0munix_min_date\u001b[0m\u001b[0;34m)\u001b[0m\u001b[0;34m\u001b[0m\u001b[0m\n\u001b[0m\u001b[1;32m     15\u001b[0m \u001b[0mcurrent_date\u001b[0m \u001b[0;34m=\u001b[0m \u001b[0mdate\u001b[0m\u001b[0;34m.\u001b[0m\u001b[0mtoday\u001b[0m\u001b[0;34m(\u001b[0m\u001b[0;34m)\u001b[0m\u001b[0;34m\u001b[0m\u001b[0m\n\u001b[1;32m     16\u001b[0m \u001b[0;34m\u001b[0m\u001b[0m\n",
      "\u001b[0;31mNameError\u001b[0m: name 'date' is not defined"
     ]
    }
   ],
   "source": [
    "import ipywidgets as widgets\n",
    "import datetime\n",
    "import os\n",
    "\n",
    "data_file_path = '/data/lpd/matt'\n",
    "list_of_files = os.listdir(data_file_path)\n",
    "full_path = [\"/data/lpd/matt/{0}\".format(x) for x in list_of_files]\n",
    "\n",
    "# Find oldest file in directory\n",
    "oldest_file = min(full_path, key=os.path.getmtime)\n",
    "\n",
    "# Get dates of oldest file and current date and convert from unix time when needed\n",
    "unix_min_date = os.path.getmtime(oldest_file)\n",
    "min_date = date.fromtimestamp(unix_min_date)\n",
    "current_date = date.today()\n",
    "\n",
    "# Calculate difference between the two dates\n",
    "date_delta = current_date - min_date\n",
    "\n",
    "# Form a list of every day between the oldest file and today\n",
    "dates = [min_date + timedelta(i) for i in range(date_delta.days + 1)]\n",
    "options = [(i.strftime('%d/%m/%Y')) for i in dates]\n",
    "\n",
    "# Range slider to filter file display\n",
    "file_filter_slider = widgets.SelectionRangeSlider(\n",
    "    options=options,\n",
    "    index=(0, len(options)-1),\n",
    "    layout=widgets.Layout(width='60%'))\n",
    "\n",
    "file_filter_label = widgets.Label(\n",
    "    value='Filter by Date:')\n",
    "\n",
    "file_filter_group = widgets.HBox([file_filter_label, file_filter_slider])\n",
    "display(file_filter_group)\n"
   ]
  },
  {
   "cell_type": "code",
   "execution_count": 67,
   "metadata": {},
   "outputs": [
    {
     "data": {
      "application/vnd.jupyter.widget-view+json": {
       "model_id": "919749664528454a98a2c4f1d60bad71",
       "version_major": 2,
       "version_minor": 0
      },
      "text/plain": [
       "Select(options=(6, 7, 8, 9, 10, 11, 12, 13, 14), value=6)"
      ]
     },
     "metadata": {},
     "output_type": "display_data"
    }
   ],
   "source": [
    "\n",
    "select_widget = widgets.Select(\n",
    "    options=['1', '2,', '3', '4'],\n",
    "    value='1')\n",
    "\n",
    "new_list=[i for i in range(6, 15)]\n",
    "select_widget.options=new_list\n",
    "\n",
    "display(select_widget)\n"
   ]
  },
  {
   "cell_type": "code",
   "execution_count": 13,
   "metadata": {},
   "outputs": [
    {
     "data": {
      "application/vnd.jupyter.widget-view+json": {
       "model_id": "b7180e085c30433f8bbc88cb02ee202d",
       "version_major": 2,
       "version_minor": 0
      },
      "text/plain": [
       "HTML(value='2000', description='Total Number of Images in File:', layout=Layout(width='50%'))"
      ]
     },
     "metadata": {},
     "output_type": "display_data"
    }
   ],
   "source": [
    "test_label = widgets.HTML(\n",
    "    value=str(2000),\n",
    "    description='Total Number of Images in File:',\n",
    "    layout=widgets.Layout(width='50%'))\n",
    "\n",
    "display(test_label)"
   ]
  },
  {
   "cell_type": "code",
   "execution_count": null,
   "metadata": {},
   "outputs": [],
   "source": [
    "import extract_data\n",
    "\n",
    "extract_data."
   ]
  }
 ],
 "metadata": {
  "kernelspec": {
   "display_name": "Python 3",
   "language": "python",
   "name": "python3"
  },
  "language_info": {
   "codemirror_mode": {
    "name": "ipython",
    "version": 3
   },
   "file_extension": ".py",
   "mimetype": "text/x-python",
   "name": "python",
   "nbconvert_exporter": "python",
   "pygments_lexer": "ipython3",
   "version": "3.6.5"
  }
 },
 "nbformat": 4,
 "nbformat_minor": 2
}
