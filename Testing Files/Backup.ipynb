{
 "cells": [
  {
   "cell_type": "code",
   "execution_count": null,
   "metadata": {},
   "outputs": [],
   "source": [
    "# 12:27 3/1/19 - just about to mess about with v/hlines and it'll only be a disaster.\n",
    "\n",
    "''' Plot of the mean tile with colorbar\n",
    "'''\n",
    "\n",
    "def display_plot(data):\n",
    "    ''' Displays plots of numpy arrays, function can be used for whole images and tiles\n",
    "    '''\n",
    "    \n",
    "    fig = plt.figure(figsize=(8,8))\n",
    "    ax = fig.add_subplot(111)\n",
    "    plt.axis('off')\n",
    "    image = ax.imshow(data, cmap='ocean')\n",
    "\n",
    "    # Create and add colorbar\n",
    "    c_ticks = [0, 511, 1023, 1535, 2047, 2559, 3071, 3583, 4095]\n",
    "    cbar = fig.add_axes([1.0, 0.30, 0.05, 0.4])\n",
    "    colorbar = plt.colorbar(image, cax=cbar)\n",
    "    colorbar.set_ticks(ticks=c_ticks)\n",
    "    \n",
    "    rows = data.shape[0]\n",
    "    cols = data.shape[1]\n",
    "    # Add vertical and horizontal lines to differentiate between chips and tiles\n",
    "    for i in range(16, cols, 16):\n",
    "        ax.vlines(i-0.5, 0, rows-1, color='k', linestyles='solid')\n",
    "        # Add vertical lines to differentiate between tiles\n",
    "        ax.vlines(128-0.5, 0, rows-1, color='k', linestyle='solid')\n",
    "\n",
    "    for i in range(0, rows, 32):\n",
    "        print(\"FOR LOOP\")\n",
    "        ax.hlines(i-0.5, 0, rows-1, color='k', linestyles='solid')        \n",
    "\n",
    "    print(data.shape)\n",
    "\n",
    "    plt.show()"
   ]
  },
  {
   "cell_type": "code",
   "execution_count": null,
   "metadata": {},
   "outputs": [],
   "source": [
    "''' First entire image from data file with output plot\n",
    "'''\n",
    "\n",
    "single_image = np.zeros((256, 256), dtype=np.int32)\n",
    "\n",
    "for row in range(0, len(lpd_data[row])):\n",
    "    for col in range(0, len(lpd_data[0][row])):\n",
    "        single_image[row][col] = lpd_data[0][row][col]\n",
    "\n",
    "display_plot(single_image)"
   ]
  },
  {
   "cell_type": "code",
   "execution_count": null,
   "metadata": {},
   "outputs": [],
   "source": [
    "''' Single image (1st image) of only the tile inspected with output plot\n",
    "'''\n",
    "\n",
    "single_tile = tile_array_setup()\n",
    "\n",
    "for row in range(0, 32):\n",
    "    for col in range(0, 128):\n",
    "        single_tile[row][col] = lpd_data[0][tile_start[0] + row][tile_start[1] + col]\n",
    "\n",
    "# Display plot\n",
    "display_plot(single_tile)"
   ]
  }
 ],
 "metadata": {
  "kernelspec": {
   "display_name": "Python 3",
   "language": "python",
   "name": "python3"
  },
  "language_info": {
   "codemirror_mode": {
    "name": "ipython",
    "version": 3
   },
   "file_extension": ".py",
   "mimetype": "text/x-python",
   "name": "python",
   "nbconvert_exporter": "python",
   "pygments_lexer": "ipython3",
   "version": "3.6.5"
  }
 },
 "nbformat": 4,
 "nbformat_minor": 2
}
