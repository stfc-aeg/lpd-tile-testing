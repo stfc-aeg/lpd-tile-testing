{
 "cells": [
  {
   "cell_type": "code",
   "execution_count": null,
   "metadata": {},
   "outputs": [],
   "source": [
    "import matplotlib.pyplot as plt\n",
    "import numpy as np\n",
    "import h5py\n",
    "from matplotlib.figure import Figure\n",
    "import ipywidgets as widgets"
   ]
  },
  {
   "cell_type": "code",
   "execution_count": null,
   "metadata": {},
   "outputs": [],
   "source": [
    "# TODO - file chooser\n",
    "lpd_file_name = '/data/lpd/matt/' + 'lpdData-04767.hdf5_000001.h5'\n",
    "lpd_file = h5py.File(lpd_file_name, 'r')\n",
    "lpd_data = lpd_file['data'][()]\n",
    "\n",
    "# Setup variables\n",
    "num_images = len(lpd_data)"
   ]
  },
  {
   "cell_type": "code",
   "execution_count": null,
   "metadata": {},
   "outputs": [],
   "source": [
    "arr1 = [2,3,4,5,6,7,8,9]\n",
    "arr2 = arr1[:2]\n",
    "print(arr2)"
   ]
  },
  {
   "cell_type": "code",
   "execution_count": null,
   "metadata": {
    "scrolled": false
   },
   "outputs": [],
   "source": [
    "print(lpd_data.shape)\n",
    "print(lpd_data[5:10,:5,:15].shape)\n",
    "\n",
    "first_image = lpd_data[:1,:,:]\n",
    "print(first_image.shape)\n",
    "reshaped = np.reshape(first_image, (256, 256))\n",
    "print(reshaped.shape)"
   ]
  },
  {
   "cell_type": "code",
   "execution_count": null,
   "metadata": {},
   "outputs": [],
   "source": [
    "first_tile = lpd_data[:1,tile_start[0]:tile_start[0] + 32, tile_start[1]:tile_start[1] + 128]\n",
    "print(first_tile.shape)\n",
    "reshaped_tile = np.reshape(first_tile, (32, 128))\n",
    "print(reshaped_tile.shape)"
   ]
  },
  {
   "cell_type": "code",
   "execution_count": null,
   "metadata": {},
   "outputs": [],
   "source": [
    "tile_start = [96, 0]\n",
    "\n",
    "mean_tile = lpd_data[:lpd_data.shape[0], tile_start[0]:tile_start[0] + 32, tile_start[1]:tile_start[1] + 128]\n",
    "mean_tile = np.mean(mean_tile, axis=0)\n",
    "\n",
    "print(mean_tile)\n",
    "print(mean_tile.shape)"
   ]
  },
  {
   "cell_type": "code",
   "execution_count": null,
   "metadata": {},
   "outputs": [],
   "source": []
  },
  {
   "cell_type": "code",
   "execution_count": null,
   "metadata": {},
   "outputs": [],
   "source": []
  }
 ],
 "metadata": {
  "kernelspec": {
   "display_name": "Python 3",
   "language": "python",
   "name": "python3"
  },
  "language_info": {
   "codemirror_mode": {
    "name": "ipython",
    "version": 3
   },
   "file_extension": ".py",
   "mimetype": "text/x-python",
   "name": "python",
   "nbconvert_exporter": "python",
   "pygments_lexer": "ipython3",
   "version": "3.6.5"
  }
 },
 "nbformat": 4,
 "nbformat_minor": 2
}
