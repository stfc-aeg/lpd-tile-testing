{
 "cells": [
  {
   "cell_type": "code",
   "execution_count": null,
   "metadata": {},
   "outputs": [],
   "source": [
    "''' Cell not used.\n",
    "    Creating a mean image based on all images in the file\n",
    "'''\n",
    "\n",
    "mean_image = np.zeros((256, 256), dtype=np.int32)\n",
    "\n",
    "for row in range(0, len(lpd_data[row])):\n",
    "    for col in range(0, len(lpd_data[0][row])):\n",
    "        for image_num in range(0, num_images):\n",
    "            mean_image[row][col] += lpd_data[image_num][row][col]\n",
    "            \n",
    "        mean_image[row][col] = mean_image[row][col] / num_images"
   ]
  },
  {
   "cell_type": "code",
   "execution_count": null,
   "metadata": {},
   "outputs": [],
   "source": [
    "''' Cell not used.\n",
    "    Create another array containing only the tiles being tested\n",
    "'''\n",
    "\n",
    "tile_image = np.zeros((32, 128), dtype=np.int32)\n",
    "for row in range(0, 32):\n",
    "    for col in range(0, 128):\n",
    "        tile_image[row][col] = mean_image[tile_start[0] + row][tile_start[1] + col]"
   ]
  },
  {
   "cell_type": "code",
   "execution_count": null,
   "metadata": {},
   "outputs": [],
   "source": [
    "''' Cell not used.\n",
    "    Displays the mean image using matplotlib\n",
    "'''\n",
    "\n",
    "fig = plt.figure(figsize=(8,8))\n",
    "ax = fig.add_subplot(111)\n",
    "plt.axis('off')\n",
    "image = plt.imshow(mean_image, cmap='ocean')\n",
    "\n",
    "# Create and add colorbar\n",
    "cbar = fig.add_axes([1.0, 0.1, 0.05, 0.8])\n",
    "fig.colorbar(image, cax=cbar)\n",
    "\n",
    "# Add vertical and horizontal lines to differentiate between chips and tiles\n",
    "\n",
    "cols = 256\n",
    "rows = 256\n",
    "for i in range(16, cols, 16):\n",
    "    ax.vlines(i-0.5, 0, rows-1, color='y', linestyles='solid')\n",
    "    \n",
    "    # Add vertical lines to differentiate between tiles\n",
    "    ax.vlines(128-0.5, 0, rows-1, color='y', linestyle='solid')\n",
    "    \n",
    "for i in range(32, rows, 32):\n",
    "    ax.hlines(i-0.5, 0, rows-1, color='y', linestyles='solid')\n",
    "\n",
    "plt.show()"
   ]
  }
 ],
 "metadata": {
  "kernelspec": {
   "display_name": "Python 3",
   "language": "python",
   "name": "python3"
  },
  "language_info": {
   "codemirror_mode": {
    "name": "ipython",
    "version": 3
   },
   "file_extension": ".py",
   "mimetype": "text/x-python",
   "name": "python",
   "nbconvert_exporter": "python",
   "pygments_lexer": "ipython3",
   "version": "3.6.5"
  }
 },
 "nbformat": 4,
 "nbformat_minor": 2
}
